{
  "cells": [
    {
      "cell_type": "markdown",
      "metadata": {
        "id": "5NBDsR8tqVDp"
      },
      "source": [
        "<a href=\"https://colab.research.google.com/github/chu-ise/411A-2022/blob/main/exam/midterm_2022.ipynb\" target=\"_parent\"><img src=\"https://colab.research.google.com/assets/colab-badge.svg\" alt=\"Open In Colab\"/></a>"
      ]
    },
    {
      "cell_type": "markdown",
      "metadata": {
        "id": "aRHucTDpqVDr"
      },
      "source": [
        "# Midterm 411A-2022"
      ]
    },
    {
      "cell_type": "code",
      "execution_count": null,
      "metadata": {
        "colab": {
          "base_uri": "https://localhost:8080/"
        },
        "id": "Y5qkWPyLqVDr",
        "outputId": "8447238f-1f90-4406-b9c5-e73858d311a0"
      },
      "outputs": [
        {
          "name": "stdout",
          "output_type": "stream",
          "text": [
            "What is your name? Your Name\n",
            "What is your student ID? Your ID\n",
            "Name: Your Name\n",
            "Student ID: Your ID\n"
          ]
        }
      ],
      "source": [
        "name = input(\"What is your name? \")\n",
        "sid = input(\"What is your student ID? \")\n",
        "print(\"Name: \" + name + \"\\nStudent ID: \" + sid)"
      ]
    },
    {
      "cell_type": "markdown",
      "metadata": {
        "id": "c6Bfru_VqVDs"
      },
      "source": [
        "## Problem specification\n",
        "\n",
        "1. download FOMC minutes and take one sample text\n",
        "2. split into sentences\n",
        "3. tokeninzing (stemming)\n",
        "4. count number of occurrences of uncertainty words for each document\n",
        "5. apply the above processing to the entire dataframe\n",
        "6. aggregate number of occurrences by year and plot\n",
        "\n",
        "> economic uncertainty words:\n",
        "> \n",
        "> ['uncertain', 'econom', 'congress', 'deficit', 'legislation', 'regulation']"
      ]
    },
    {
      "cell_type": "markdown",
      "metadata": {
        "id": "PyrHMtA5gOj0"
      },
      "source": [
        "## 1. download FOMC minutes"
      ]
    },
    {
      "cell_type": "code",
      "execution_count": 36,
      "metadata": {
        "colab": {
          "base_uri": "https://localhost:8080/",
          "height": 107
        },
        "id": "rYhqM64_qVDt",
        "outputId": "cca72f62-9e2e-4306-b9c8-edd90da8e40b"
      },
      "outputs": [
        {
          "name": "stderr",
          "output_type": "stream",
          "text": [
            "Downloading...\n",
            "From: https://drive.google.com/uc?id=14t4uoStGbRLMTu0GaNDt44UsbYs3Y4Ku\n",
            "To: /content/fomc_speech.csv\n",
            "100%|██████████| 30.3M/30.3M [00:00<00:00, 120MB/s] \n"
          ]
        },
        {
          "data": {
            "application/vnd.google.colaboratory.intrinsic+json": {
              "type": "string"
            },
            "text/plain": [
              "'fomc_speech.csv'"
            ]
          },
          "execution_count": 36,
          "metadata": {},
          "output_type": "execute_result"
        }
      ],
      "source": [
        "import gdown\n",
        "id = \"14t4uoStGbRLMTu0GaNDt44UsbYs3Y4Ku\"\n",
        "\n",
        "data_file = \"fomc_speech.csv\"\n",
        "gdown.download(id=id, output=data_file, quiet=False, fuzzy=True)"
      ]
    },
    {
      "cell_type": "code",
      "execution_count": 37,
      "metadata": {
        "colab": {
          "base_uri": "https://localhost:8080/",
          "height": 206
        },
        "id": "o-1jbUI2qVDt",
        "outputId": "7e28fe38-6f04-42bc-eea8-24b0b3babad5"
      },
      "outputs": [
        {
          "data": {
            "text/html": [
              "\n",
              "  <div id=\"df-59dd7198-5402-4c6a-996d-d4ec9fb28358\">\n",
              "    <div class=\"colab-df-container\">\n",
              "      <div>\n",
              "<style scoped>\n",
              "    .dataframe tbody tr th:only-of-type {\n",
              "        vertical-align: middle;\n",
              "    }\n",
              "\n",
              "    .dataframe tbody tr th {\n",
              "        vertical-align: top;\n",
              "    }\n",
              "\n",
              "    .dataframe thead th {\n",
              "        text-align: right;\n",
              "    }\n",
              "</style>\n",
              "<table border=\"1\" class=\"dataframe\">\n",
              "  <thead>\n",
              "    <tr style=\"text-align: right;\">\n",
              "      <th></th>\n",
              "      <th>date</th>\n",
              "      <th>speaker</th>\n",
              "      <th>title</th>\n",
              "      <th>text</th>\n",
              "      <th>content_type</th>\n",
              "    </tr>\n",
              "  </thead>\n",
              "  <tbody>\n",
              "    <tr>\n",
              "      <th>0</th>\n",
              "      <td>1996-06-13</td>\n",
              "      <td>Chairman Alan Greenspan</td>\n",
              "      <td>Bank supervision in a world economy</td>\n",
              "      <td>Remarks by Chairman Alan Greenspan Bank superv...</td>\n",
              "      <td>fomc_speech</td>\n",
              "    </tr>\n",
              "    <tr>\n",
              "      <th>1</th>\n",
              "      <td>1996-06-18</td>\n",
              "      <td>Governor Edward W. Kelley, Jr.</td>\n",
              "      <td>Developments in electronic money and banking</td>\n",
              "      <td>Remarks by Governor Edward W. Kelley, Jr. Deve...</td>\n",
              "      <td>fomc_speech</td>\n",
              "    </tr>\n",
              "    <tr>\n",
              "      <th>2</th>\n",
              "      <td>1996-09-08</td>\n",
              "      <td>Governor Laurence H. Meyer</td>\n",
              "      <td>Monetary policy objectives and strategy</td>\n",
              "      <td>Monetary Policy Objectives and Strategy\\n\\nI w...</td>\n",
              "      <td>fomc_speech</td>\n",
              "    </tr>\n",
              "    <tr>\n",
              "      <th>3</th>\n",
              "      <td>1996-09-19</td>\n",
              "      <td>Chairman Alan Greenspan</td>\n",
              "      <td>Regulation and electronic payment systems</td>\n",
              "      <td>Remarks by Chairman Alan Greenspan Regulation ...</td>\n",
              "      <td>fomc_speech</td>\n",
              "    </tr>\n",
              "    <tr>\n",
              "      <th>4</th>\n",
              "      <td>1996-10-02</td>\n",
              "      <td>Governor Lawrence B. Lindsey</td>\n",
              "      <td>Small business is big business</td>\n",
              "      <td>Remarks by Governor Lawrence B. Lindsey At the...</td>\n",
              "      <td>fomc_speech</td>\n",
              "    </tr>\n",
              "  </tbody>\n",
              "</table>\n",
              "</div>\n",
              "      <button class=\"colab-df-convert\" onclick=\"convertToInteractive('df-59dd7198-5402-4c6a-996d-d4ec9fb28358')\"\n",
              "              title=\"Convert this dataframe to an interactive table.\"\n",
              "              style=\"display:none;\">\n",
              "        \n",
              "  <svg xmlns=\"http://www.w3.org/2000/svg\" height=\"24px\"viewBox=\"0 0 24 24\"\n",
              "       width=\"24px\">\n",
              "    <path d=\"M0 0h24v24H0V0z\" fill=\"none\"/>\n",
              "    <path d=\"M18.56 5.44l.94 2.06.94-2.06 2.06-.94-2.06-.94-.94-2.06-.94 2.06-2.06.94zm-11 1L8.5 8.5l.94-2.06 2.06-.94-2.06-.94L8.5 2.5l-.94 2.06-2.06.94zm10 10l.94 2.06.94-2.06 2.06-.94-2.06-.94-.94-2.06-.94 2.06-2.06.94z\"/><path d=\"M17.41 7.96l-1.37-1.37c-.4-.4-.92-.59-1.43-.59-.52 0-1.04.2-1.43.59L10.3 9.45l-7.72 7.72c-.78.78-.78 2.05 0 2.83L4 21.41c.39.39.9.59 1.41.59.51 0 1.02-.2 1.41-.59l7.78-7.78 2.81-2.81c.8-.78.8-2.07 0-2.86zM5.41 20L4 18.59l7.72-7.72 1.47 1.35L5.41 20z\"/>\n",
              "  </svg>\n",
              "      </button>\n",
              "      \n",
              "  <style>\n",
              "    .colab-df-container {\n",
              "      display:flex;\n",
              "      flex-wrap:wrap;\n",
              "      gap: 12px;\n",
              "    }\n",
              "\n",
              "    .colab-df-convert {\n",
              "      background-color: #E8F0FE;\n",
              "      border: none;\n",
              "      border-radius: 50%;\n",
              "      cursor: pointer;\n",
              "      display: none;\n",
              "      fill: #1967D2;\n",
              "      height: 32px;\n",
              "      padding: 0 0 0 0;\n",
              "      width: 32px;\n",
              "    }\n",
              "\n",
              "    .colab-df-convert:hover {\n",
              "      background-color: #E2EBFA;\n",
              "      box-shadow: 0px 1px 2px rgba(60, 64, 67, 0.3), 0px 1px 3px 1px rgba(60, 64, 67, 0.15);\n",
              "      fill: #174EA6;\n",
              "    }\n",
              "\n",
              "    [theme=dark] .colab-df-convert {\n",
              "      background-color: #3B4455;\n",
              "      fill: #D2E3FC;\n",
              "    }\n",
              "\n",
              "    [theme=dark] .colab-df-convert:hover {\n",
              "      background-color: #434B5C;\n",
              "      box-shadow: 0px 1px 3px 1px rgba(0, 0, 0, 0.15);\n",
              "      filter: drop-shadow(0px 1px 2px rgba(0, 0, 0, 0.3));\n",
              "      fill: #FFFFFF;\n",
              "    }\n",
              "  </style>\n",
              "\n",
              "      <script>\n",
              "        const buttonEl =\n",
              "          document.querySelector('#df-59dd7198-5402-4c6a-996d-d4ec9fb28358 button.colab-df-convert');\n",
              "        buttonEl.style.display =\n",
              "          google.colab.kernel.accessAllowed ? 'block' : 'none';\n",
              "\n",
              "        async function convertToInteractive(key) {\n",
              "          const element = document.querySelector('#df-59dd7198-5402-4c6a-996d-d4ec9fb28358');\n",
              "          const dataTable =\n",
              "            await google.colab.kernel.invokeFunction('convertToInteractive',\n",
              "                                                     [key], {});\n",
              "          if (!dataTable) return;\n",
              "\n",
              "          const docLinkHtml = 'Like what you see? Visit the ' +\n",
              "            '<a target=\"_blank\" href=https://colab.research.google.com/notebooks/data_table.ipynb>data table notebook</a>'\n",
              "            + ' to learn more about interactive tables.';\n",
              "          element.innerHTML = '';\n",
              "          dataTable['output_type'] = 'display_data';\n",
              "          await google.colab.output.renderOutput(dataTable, element);\n",
              "          const docLink = document.createElement('div');\n",
              "          docLink.innerHTML = docLinkHtml;\n",
              "          element.appendChild(docLink);\n",
              "        }\n",
              "      </script>\n",
              "    </div>\n",
              "  </div>\n",
              "  "
            ],
            "text/plain": [
              "         date                         speaker  \\\n",
              "0  1996-06-13         Chairman Alan Greenspan   \n",
              "1  1996-06-18  Governor Edward W. Kelley, Jr.   \n",
              "2  1996-09-08      Governor Laurence H. Meyer   \n",
              "3  1996-09-19         Chairman Alan Greenspan   \n",
              "4  1996-10-02    Governor Lawrence B. Lindsey   \n",
              "\n",
              "                                          title  \\\n",
              "0           Bank supervision in a world economy   \n",
              "1  Developments in electronic money and banking   \n",
              "2       Monetary policy objectives and strategy   \n",
              "3     Regulation and electronic payment systems   \n",
              "4                Small business is big business   \n",
              "\n",
              "                                                text content_type  \n",
              "0  Remarks by Chairman Alan Greenspan Bank superv...  fomc_speech  \n",
              "1  Remarks by Governor Edward W. Kelley, Jr. Deve...  fomc_speech  \n",
              "2  Monetary Policy Objectives and Strategy\\n\\nI w...  fomc_speech  \n",
              "3  Remarks by Chairman Alan Greenspan Regulation ...  fomc_speech  \n",
              "4  Remarks by Governor Lawrence B. Lindsey At the...  fomc_speech  "
            ]
          },
          "execution_count": 37,
          "metadata": {},
          "output_type": "execute_result"
        }
      ],
      "source": [
        "import pandas as pd\n",
        "df = pd.read_csv(data_file)\n",
        "df.head()"
      ]
    },
    {
      "cell_type": "markdown",
      "metadata": {
        "id": "V6P1-qsaj9pk"
      },
      "source": [
        "### take one sample text"
      ]
    },
    {
      "cell_type": "code",
      "execution_count": 38,
      "metadata": {
        "colab": {
          "base_uri": "https://localhost:8080/"
        },
        "id": "_3vX3DAugVnM",
        "outputId": "ab7bacfd-e328-4ca8-e834-b977db2475be"
      },
      "outputs": [
        {
          "name": "stdout",
          "output_type": "stream",
          "text": [
            "Remarks by Chairman Alan Greenspan Bank supervision in a world economy At the International Conferen\n"
          ]
        }
      ],
      "source": [
        "### take one sample text\n",
        "text = df.text[0]\n",
        "print(text[:100])"
      ]
    },
    {
      "cell_type": "markdown",
      "metadata": {
        "id": "0Tout6ZEqVDv"
      },
      "source": [
        "## Start your coding ..."
      ]
    },
    {
      "cell_type": "markdown",
      "metadata": {
        "id": "DnhzWTgOqVDt"
      },
      "source": [
        "## prepare a tokenizer and stem uncertainty word list"
      ]
    },
    {
      "cell_type": "code",
      "execution_count": 39,
      "metadata": {
        "colab": {
          "base_uri": "https://localhost:8080/"
        },
        "id": "CRO_fmUzczwc",
        "outputId": "cc68432e-7203-4480-b237-509bbb68ca1f"
      },
      "outputs": [
        {
          "name": "stdout",
          "output_type": "stream",
          "text": [
            "['uncertain', 'econom', 'congress', 'deficit', 'legisl', 'regul']\n"
          ]
        }
      ],
      "source": [
        "# import nltk\n",
        "\n",
        "uncertainty_words = ['uncertain', 'econom', 'congress', 'deficit', 'legislation', 'regulation']\n",
        "\n",
        "uncertainty_tokens = []\n",
        "# put your code here\n",
        "\n",
        "\n",
        "\n",
        "\n",
        "print(uncertainty_tokens)"
      ]
    },
    {
      "cell_type": "markdown",
      "metadata": {
        "id": "PETUMHjBgKkT"
      },
      "source": [
        "## 2. split into sentences\n"
      ]
    },
    {
      "cell_type": "code",
      "execution_count": 41,
      "metadata": {
        "colab": {
          "base_uri": "https://localhost:8080/"
        },
        "id": "8DtesCOIgJoH",
        "outputId": "a8cf80a4-100e-4bfc-b004-52e7a88bc39f"
      },
      "outputs": [
        {
          "name": "stdout",
          "output_type": "stream",
          "text": [
            "Number of sentences: 67\n"
          ]
        }
      ],
      "source": [
        "sentences = text.split('\\n')\n",
        "print('Number of sentences:', len(sentences))"
      ]
    },
    {
      "cell_type": "markdown",
      "metadata": {
        "id": "INR46LRVgw_v"
      },
      "source": [
        "## 3. tokeninzing (stemming)\n"
      ]
    },
    {
      "cell_type": "code",
      "execution_count": 42,
      "metadata": {
        "colab": {
          "base_uri": "https://localhost:8080/"
        },
        "id": "PspJYT0wtXvP",
        "outputId": "f66acd14-89f3-44d5-a725-1139cbd55ad8"
      },
      "outputs": [
        {
          "name": "stdout",
          "output_type": "stream",
          "text": [
            "Number of tokenized sentences: 67\n",
            "['remark', 'by', 'chairman', 'alan', 'greenspan', 'bank', 'supervis', 'in', 'a', 'world', 'economi', 'At', 'the', 'intern', 'confer', 'of', 'bank', 'supervisor', ',', 'stockholm', ',', 'sweden', 'june', '13', ',', '1996', 'I', 'am', 'honor', 'to', 'present', 'the', 'william', 'taylor', 'memori', 'lectur', 'to', 'such', 'a', 'distinguish', 'group', 'of', 'senior', 'bank', 'supervisor', 'from', 'around', 'the', 'world', 'I', 'am', 'especi', 'delight', 'to', 'have', 'with', 'us', 'bill', \"'s\", 'wife', ',', 'sharon', ',', 'and', 'daughter', ',', 'clair', 'thi', 'visit', 'give', 'them', 'the', 'opportun', 'to', 'meet', 'more', 'of', 'bill', \"'s\", 'colleagu', 'and', 'to', 'appreci', ',', 'onc', 'again', ',', 'the', 'great', 'import', 'of', 'the', 'work', 'he', 'did', 'those', 'of', 'you', 'who', 'had', 'the', 'opportun', 'to', 'know', 'bill', 'can', 'recal', 'him', 'as', 'a', 'dedic', 'bank', 'supervisor', 'and', 'an', 'outstand', 'public', 'servant', 'We', 'in', 'the', 'unit', 'state', 'were', 'certainli', 'fortun', 'to', 'have', 'had', 'him', 'lead', 'our', 'bank', 'supervisori', 'function', 'at', 'the', 'feder', 'reserv', 'and', 'the', 'fdic', 'while', 'the', 'u.s.', 'bank', 'system', 'wa', 'experienc', 'quit', 'difficult', 'time', 'To', 'me', ',', 'no', 'individu', 'display', 'the', 'characterist', 'necessari', 'for', 'a', 'success', 'senior', 'bank', 'supervisor', 'better', 'than', 'bill', 'taylor', 'well', 'known', 'for', 'thi', 'integr', ',', 'tenac', ',', 'and', 'profession', 'dedic', ',', 'bill', 'demand', 'the', 'best', 'from', 'himself', 'and', 'from', 'those', 'around', 'him', 'He', 'understood', 'that', 'a', 'safe', 'and', 'sound', 'bank', 'system', 'wa', 'essenti', 'to', 'a', 'healthi', 'market', 'system', ',', 'and', 'he', 'wa', 'commit', 'to', 'maintain', 'such', 'a', 'system', 'hi', 'contribut', 'extend', 'outsid', 'the', 'unit', 'state', 'and', 'into', 'the', 'effort', 'of', 'the', 'basl', 'committe', 'on', 'bank', 'supervis', 'and', 'beyond', 'inde', ',', 'he', '--', 'as', 'much', 'as', 'anyon', '--', 'recogn', 'that', 'the', 'chang', 'occur', 'in', 'our', 'intern', 'bank', 'system', 'increas', 'the', 'import', 'of', 'supervisor', 'from', 'around', 'the', 'world', 'commun', 'and', 'work', 'togeth', 'It', 'is', 'most', 'fit', ',', 'therefor', ',', 'that', 'we', 'rememb', 'him', 'at', 'thi', 'confer', 'A', 'period', 'of', 'chang', 'the', 'dual', 'theme', 'of', 'thi', 'year', \"'s\", 'confer', 'of', 'cross-', 'border', 'bank', 'and', 'qualit', 'supervis', 'are', 'highli', 'relev', 'to', 'our', 'respons', 'as', 'bank', 'supervisor', 'in', 'a', 'world', 'economi', 'that', 'is', 'becom', 'increasingli', 'integr', 'and', 'complex', 'bank', 'ha', 'becom', 'more', 'sophist', ';', 'the', 'volum', 'of', 'transact', 'ha', 'multipli', ';', 'and', 'competit', 'pressur', 'have', 'grown', 'these', 'develop', 'reflect', 'the', 'increas', 'effici', 'of', 'financi', 'market', 'worldwid', ',', 'which', 'have', 'help', 'to', 'bring', 'about', 'expand', 'intern', 'trade', 'and', 'econom', 'growth', 'howev', ',', 'by', 'strengthen', 'the', 'interdepend', 'among', 'market', 'and', 'market', 'particip', ',', 'they', 'may', 'also', 'have', 'increas', 'the', 'potenti', 'for', 'signific', ',', 'advers', 'event', 'to', 'spread', 'quickli', 'to', 'other', 'market', 'As', 'bank', 'supervisor', ',', 'we', 'must', 'deal', 'with', 'both', 'the', 'posit', 'and', 'the', 'potenti', 'neg', 'effect', 'of', 'rapid', 'innov', 'and', 'chang', 'We', 'should', 'also', 'take', 'the', 'opportun', 'that', 'chang', 'provid', 'to', 'promot', 'sound', 'risk', 'manag', 'practic', 'within', 'our', 'bank', 'system', 'meet', 'these', 'challeng', 'will', 'be', 'a', 'daunt', 'task', 'dure', 'my', 'comment', 'thi', 'even', 'I', 'will', 'suggest', 'way', 'supervisor', 'can', 'address', 'these', 'challeng', 'and', 'prepar', 'for', 'undoubtedli', 'greater', 'chang', 'in', 'the', 'year', 'to', 'come', 'first', ',', 'though', ',', 'I', 'would', 'like', 'to', 'discuss', 'the', 'interact', 'of', 'govern', 'and', 'central', 'bank', 'with', 'privat', 'commerci', 'bank', 'in', 'free', 'economi', 'in', 'term', 'of', 'risk', 'share', 'By', 'articul', 'and', 'understand', 'that', 'relationship', ',', 'we', 'may', 'have', 'a', 'better', 'framework', 'for', 'consid', 'how', 'to', 'supervis', 'and', 'regul', 'our', 'financi', 'institut', 'A', 'leverag', 'bank', 'system', 'In', 'address', 'these', 'issu', 'it', 'is', 'import', 'to', 'rememb', 'that', 'mani', 'of', 'the', 'benefit', 'bank', 'provid', 'modern', 'societi', 'deriv', 'from', 'their', 'willing', 'to', 'take', 'risk', 'and', 'from', 'their', 'use', 'of', 'a', 'rel', 'high', 'degre', 'of', 'financi', 'leverag', 'through', 'leverag', ',', 'in', 'the', 'form', 'princip', 'of', 'take', 'deposit', ',', 'bank', 'perform', 'a', 'critic', 'role', 'in', 'the', 'financi', 'intermedi', 'process', ',', 'provid', 'saver', 'with', 'addit', 'invest', 'choic', 'and', 'borrow', 'with', 'a', 'greater', 'rang', 'of', 'sourc', 'of', 'credit', ',', 'therebi', 'facilit', 'a', 'more', 'effici', 'alloc', 'of', 'resourc', 'and', 'contribut', 'importantli', 'to', 'greater', 'econom', 'growth', 'inde', ',', 'it', 'wa', 'the', 'evid', 'valu', 'of', 'intermedi', 'and', 'leverag', 'that', 'ha', 'shape', 'the', 'develop', 'of', 'our', 'financi', 'system', 'from', 'the', 'earliest', 'time', '--', 'certainli', 'sinc', 'renaiss', 'goldsmith', 'discov', 'that', 'lend', 'out', 'deposit', 'gold', 'wa', 'feasibl', 'and', 'profit', 'stockholm', ',', 'itself', ',', 'recogn', 'the', 'valu', 'of', 'intermedi', 'with', 'the', 'found', 'of', 'the', 'riksbank', 'more', 'than', '300', 'year', 'ago', 'as', 'a', 'privat', 'institut', 'Of', 'cours', ',', 'thi', 'same', 'leverag', 'and', 'risk-tak', 'also', 'greatli', 'increas', 'the', 'possibl', 'of', 'bank', 'failur', 'inde', ',', 'without', 'leverag', ',', 'loss', 'from', 'risk-tak', 'would', 'be', 'absorb', 'by', 'the', 'bank', \"'s\", 'owner', ',', 'virtual', 'elimin', 'the', 'chanc', 'that', 'the', 'bank', 'would', 'be', 'unabl', 'to', 'meet', 'it', 'oblig', 'in', 'a', '``', 'failur', \"''\", 'some', 'failur', 'can', 'be', 'of', 'a', 'bank', \"'s\", 'own', 'make', ',', 'result', ',', 'for', 'exampl', ',', 'from', 'poor', 'credit', 'judgement', 'for', 'the', 'most', 'part', ',', 'these', 'failur', 'are', 'a', 'normal', 'and', 'import', 'part', 'of', 'the', 'market', 'process', 'and', 'provid', 'disciplin', 'and', 'inform', 'to', 'other', 'particip', 'regard', 'the', 'level', 'of', 'busi', 'risk', 'other', 'failur', ',', 'can', 'result', 'from', ',', 'and', 'contribut', 'to', ',', 'the', 'rare', 'episod', 'of', 'sever', 'econom', 'or', 'market', 'turmoil', 'that', 'affect', 'broad', 'segment', 'of', 'an', 'economi', 'and', 'is', 'not', 'the', 'consequ', 'of', 'the', 'imprud', 'of', 'individu', 'bank', 'becaus', 'of', 'import', 'role', 'bank', 'and', 'other', 'financi', 'intermediari', 'play', 'in', 'our', 'financi', 'system', ',', 'such', 'failur', 'could', 'have', 'larg', 'rippl', 'effect', 'that', 'spread', 'throughout', 'busi', 'and', 'financi', 'market', 'at', 'great', 'cost', 'the', 'distribut', 'of', 'risk', 'over', 'time', ',', 'societi', 'conclud', 'that', 'leverag', 'and', 'intermedi', 'were', 'essenti', 'to', 'econom', 'perform', ',', 'but', 'also', 'that', 'some', 'bank', 'failur', 'could', 'have', 'unaccept', 'econom', 'cost', 'In', 'respons', ',', 'central', 'bank', 'were', 'creat', 'and', 'were', 'accord', 'new', 'respons', ',', 'and', 'what', 'we', 'now', 'call', 'prudenti', 'regul', 'evolv', 'In', 'the', 'unit', 'state', ',', 'these', 'initi', 'took', 'the', 'shape', 'of', 'the', 'creation', 'of', 'the', 'feder', 'reserv', 'in', '1913', 'after', 'sever', 'financi', 'panic', 'in', 'the', 'late', '19th', 'and', 'earli', '20th', 'centuri', ',', 'and', 'of', 'feder', 'deposit', 'insur', 'and', 'a', 'broaden', 'role', 'for', 'bank', 'supervisor', 'in', 'the', '1930', \"'s\", 'while', 'the', 'respons', 'in', 'other', 'countri', 'were', 'often', 'less', 'overt', ',', 'they', 'were', 'gener', 'still', 'signific', 'in', 'their', 'effect', 'thi', 'expand', 'role', 'of', 'govern', ',', 'central', 'bank', ',', 'and', 'bank', 'supervisor', 'impli', 'a', 'complex', 'approach', 'to', 'manag', 'and', 'even', 'share', 'the', 'risk', 'of', 'failur', 'between', 'govern', 'and', 'privat', 'own', 'bank', 'some', 'of', 'what', 'central', 'bank', 'do', 'might', 'be', 'term', '``', 'shape', \"''\", 'or', 'reduc', 'some', 'kind', 'of', 'risk', ',', 'primarili', 'by', 'provid', 'liquid', 'in', 'certain', 'situat', 'to', 'reduc', 'the', 'odd', 'of', 'extrem', 'market', 'outcom', ',', 'in', 'which', 'uncertainti', 'feed', 'market', 'panic', 'tradit', 'thi', 'wa', 'accomplish', 'by', 'make', 'discount', 'or', 'lombard', 'facil', 'avail', ',', 'so', 'that', 'depositori', 'could', 'turn', 'illiquid', 'asset', 'into', 'liquid', 'resourc', 'and', 'not', 'exacerb', 'unsettl', 'market', 'condit', 'by', 'sell', 'such', 'asset', 'or', 'call', 'loan', 'similarli', ',', 'open', 'market', 'oper', ',', 'in', 'situat', 'like', 'that', 'which', 'follow', 'the', '1987', 'stock', 'market', 'crash', ',', 'satisfi', 'increas', 'need', 'for', 'liquid', 'that', 'otherwis', 'could', 'feed', 'cumul', ',', 'self-reinforc', ',', 'contract', 'across', 'mani', 'financi', 'market', 'but', 'guard', 'against', 'system', 'problem', 'also', 'ha', 'involv', ',', 'on', 'veri', 'rare', 'occas', ',', 'an', 'element', 'of', 'more', 'overt', 'risk-', 'share', ',', 'in', 'which', 'the', 'govern', '--', 'or', 'more', 'accur', 'the', 'taxpay', '--', 'is', 'potenti', 'ask', 'to', 'bear', 'some', 'of', 'the', 'cost', 'of', 'failur', 'activ', 'such', 'risk', 'share', 'quit', 'appropri', 'occur', 'at', 'most', 'mayb', 'two', 'or', 'three', 'time', 'a', 'centuri', 'the', 'willing', 'to', 'do', 'so', 'aris', 'from', 'societi', \"'s\", 'judgment', 'that', 'some', 'bank', 'failur', 'may', 'have', 'seriou', 'advers', 'effect', 'on', 'the', 'entir', 'economi', 'and', 'that', 'requir', 'bank', 'to', 'carri', 'enough', 'capit', 'to', 'avoid', 'ani', 'risk', 'of', 'failur', 'under', 'ani', 'circumst', 'itself', 'would', 'have', 'unaccept', 'cost', 'in', 'term', 'of', 'reduc', 'intermedi', 'If', 'bank', 'had', 'to', 'absorb', 'all', 'financi', 'risk', ',', 'then', 'the', 'degre', 'to', 'which', 'they', 'could', 'leverag', ',', 'of', 'necess', ',', 'would', 'be', 'limit', ',', 'and', 'their', 'contribut', 'to', 'econom', 'growth', ',', 'modest', 'risk-shar', 'encourag', 'leverag', 'and', 'intermedi', 'elimin', 'risk-shar', 'and', 'ask', 'bank', 'to', 'remov', 'the', 'possibl', 'of', 'failur', 'would', 'lead', 'to', 'a', 'much', 'smaller', 'bank', 'system', 'To', 'attract', ',', 'or', 'at', 'least', 'retain', 'equiti', 'capit', ',', 'a', 'privat', 'financi', 'institut', 'must', 'earn', 'at', 'a', 'minimum', 'the', 'overal', 'economi', \"'s\", 'rate', 'of', 'return', ',', 'adjust', 'for', 'risk', 'the', 'rate', 'of', 'return', 'bank', 'would', 'need', 'in', 'order', 'to', 'compet', 'for', 'a', 'larg', 'amount', 'of', 'extra', 'equiti', 'capit', 'would', 'serious', 'constrain', 'the', 'asset', 'they', 'could', 'hold', 'In', 'their', 'manag', 'of', 'market', 'or', 'credit', 'risk', ',', 'well-run', 'bank', 'care', 'consid', 'potenti', 'loss', 'from', 'most', 'possibl', 'market', 'outcom', ',', 'and', 'they', 'hold', 'suffici', 'capit', 'to', 'protect', 'themselv', 'from', 'all', 'but', 'the', 'most', 'extrem', 'situat', 'but', 'bank', 'and', 'other', 'privat', 'busi', 'recogn', 'that', 'to', 'be', 'safe', 'against', 'all', 'possibl', 'risk', 'impli', 'a', 'level', 'of', 'capit', 'on', 'which', 'it', 'would', 'be', 'difficult', ',', 'if', 'not', 'imposs', ',', 'to', 'earn', 'a', 'competit', 'rate', 'of', 'return', 'On', 'the', 'other', 'hand', ',', 'if', 'central', 'bank', 'or', 'govern', 'effect', 'insul', 'privat', 'institut', 'from', 'the', 'largest', 'potenti', 'loss', ',', 'howev', 'incur', ',', 'increas', 'laxiti', 'could', 'be', 'costli', 'to', 'societi', 'as', 'well', 'leverag', 'would', 'escal', 'to', 'the', 'outer', 'edg', 'of', 'prudenc', ',', 'if', 'not', 'beyond', 'lender', 'to', 'bank', '(', 'as', 'well', 'as', 'their', 'owner', 'or', 'manag', ')', 'would', 'learn', 'to', 'anticip', 'central', 'bank', 'or', 'govern', 'intervent', 'and', 'would', 'becom', 'less', 'respons', ',', 'perhap', 'reckless', ',', 'in', 'their', 'practic', 'such', 'laxiti', 'would', 'hold', 'the', 'potenti', 'of', 'a', 'major', 'call', 'on', 'taxpay', 'and', 'central', 'bank', 'would', 'risk', 'inflationari', 'instabl', 'from', 'excess', 'money', 'creation', 'if', 'they', 'act', 'too', 'readili', 'and', 'too', 'often', 'to', 'head', 'off', 'possibl', 'market', 'turmoil', 'In', 'practic', ',', 'the', 'polici', 'choic', 'of', 'how', 'much', ',', 'if', 'ani', ',', 'of', 'the', 'extrem', 'market', 'risk', 'that', 'govern', 'author', 'should', 'absorb', 'is', 'fraught', 'with', 'mani', 'complex', 'yet', 'we', 'central', 'banker', 'make', 'thi', 'decis', 'everi', 'day', ',', 'either', 'explicitli', 'or', 'by', 'default', 'moreov', ',', 'we', 'can', 'never', 'know', 'for', 'sure', 'whether', 'the', 'decis', 'we', 'made', 'were', 'appropri', 'the', 'question', ',', 'though', ',', 'is', 'not', 'whether', 'our', 'action', 'to', 'support', 'entir', 'financi', 'system', 'or', 'to', 'requir', 'major', 'chang', 'at', 'specif', 'institut', 'are', 'seen', 'to', 'have', 'been', 'necessari', 'in', 'retrospect', 'the', 'absenc', 'of', 'a', 'fire', 'doe', 'not', 'mean', 'that', 'we', 'should', 'not', 'have', 'paid', 'for', 'fire', 'insur', 'rather', ',', 'the', 'question', 'is', 'whether', ',', 'ex', 'ant', ',', 'the', 'probabl', 'of', 'a', 'system', 'collaps', 'wa', 'suffici', 'to', 'warrant', 'intervent', 'often', ',', 'we', 'can', 'not', 'wait', 'to', 'see', 'whether', ',', 'in', 'hindsight', ',', 'the', 'problem', 'will', 'be', 'judg', 'to', 'have', 'been', 'an', 'isol', 'event', 'and', 'larg', 'benign', 'supervisori', 'approach', 'thu', ',', 'govern', 'have', 'been', 'given', 'certain', 'respons', 'relat', 'to', 'their', 'bank', 'and', 'financi', 'system', 'that', 'must', 'be', 'balanc', 'We', 'have', 'the', 'respons', 'to', 'prevent', 'major', 'financi', 'market', 'disrupt', 'through', 'develop', 'and', 'enforc', 'of', 'prudent', 'regulatori', 'standard', 'and', ',', 'if', 'necessari', 'in', 'rare', 'circum-', 'stanc', ',', 'through', 'direct', 'intervent', 'in', 'market', 'event', 'but', 'we', 'also', 'have', 'the', 'respons', 'to', 'assur', 'that', 'privat', 'sector', 'institut', 'have', 'the', 'capac', 'to', 'take', 'prudent', 'and', 'appropri', 'risk', ',', 'even', 'though', 'such', 'risk', 'will', 'sometim', 'result', 'in', 'bank', 'loss', 'or', 'even', 'bank', 'failur', 'provid', 'institut', 'with', 'the', 'flexibl', 'that', 'may', 'lead', 'to', 'failur', 'is', 'as', 'import', 'as', 'permit', 'them', 'the', 'opportun', 'to', 'succeed', 'By', 'it', 'natur', ',', 'all', 'busi', 'invest', 'is', 'riski', 'the', 'role', 'of', 'bank', 'to', 'assist', 'in', 'the', 'financ', 'of', 'such', 'risk', 'thu', 'impli', 'the', 'take', 'of', 'risk', 'by', 'the', 'bank', 'itself', 'inde', ',', 'thi', 'is', 'the', 'econom', 'role', 'of', 'bank', 'in', 'a', 'market', 'economi', 'the', 'purpos', 'of', 'risk', 'manag', 'is', 'not', 'to', 'elimin', 'risk', ',', 'but', 'to', 'manag', 'it', 'in', 'a', 'prudent', 'manner', 'our', 'goal', 'as', 'supervisor', ',', 'therefor', ',', 'should', 'not', 'be', 'to', 'prevent', 'all', 'bank', 'failur', ',', 'but', 'to', 'maintain', 'suffici', 'prudenti', 'standard', 'so', 'that', 'bank', 'problem', 'do', 'not', 'becom', 'widespread', 'We', 'tri', 'to', 'achiev', 'the', 'proper', 'balanc', 'through', 'offici', 'regul', ',', 'formal', 'and', 'inform', 'supervisori', 'polici', 'and', 'procedur', 'To', 'some', 'extent', ',', 'we', 'do', 'thi', 'over', 'time', 'by', 'signal', 'to', 'the', 'market', ',', 'through', 'our', 'action', ',', 'the', 'kind', 'of', 'circumst', 'in', 'which', 'we', 'might', 'be', 'will', 'to', 'inter-', 'vene', 'to', 'quell', 'financi', 'turmoil', ',', 'and', 'convers', ',', 'what', 'level', 'of', 'difficulti', 'we', 'expect', 'privat', 'institut', 'to', 'resolv', 'by', 'themselv', 'the', 'market', ',', 'then', ',', 'respond', 'by', 'adjust', 'the', 'cost', 'of', 'capit', 'to', 'bank', 'throughout', 'most', 'of', 'thi', 'centuri', ',', 'we', 'have', 'made', 'our', 'decis', 'larg', 'in', 'a', 'domest', 'context', 'howev', ',', 'in', 'recent', 'decad', 'that', 'situat', 'ha', 'chang', 'markedli', 'for', 'mani', 'countri', 'and', 'is', 'rapidli', 'chang', 'for', 'all', 'with', 'financi', 'instrument', 'and', 'market', 'becom', 'more', 'complex', 'and', 'close', 'link', ',', 'it', 'is', 'essenti', 'that', 'bank', 'supervisor', 'around', 'the', 'globe', 'get', 'to', 'know', 'and', 'trust', 'one', 'anoth', 'and', 'commun', 'openli', ',', 'as', 'necessari', ',', 'when', 'bank', 'problem', 'and', 'potenti', 'crise', 'emerg', 'In', 'recognit', 'of', 'such', 'common', 'interest', ',', 'major', 'industri', 'countri', 'have', 'work', 'togeth', 'for', 'year', 'through', 'the', 'basl', 'committe', 'on', 'bank', 'supervis', 'confer', 'like', 'thi', 'one', 'also', 'clearli', 'help', 'advanc', 'the', 'goal', 'of', 'interact', 'intern', 'coordin', 'and', 'educ', 'effort', 'doubtless', 'also', 'help', 'supervisor', 'cope', 'with', 'the', 'grow', 'complex', 'of', 'supervisori', 'matter', 'by', 'provid', 'them', 'with', 'a', 'forum', 'for', 'deal', 'with', 'issu', 'of', 'mutual', 'interest', 'and', 'concern', 'the', 'caribbean', 'bank', 'supervisor', 'group', ',', 'the', 'seanza', 'forum', 'of', 'bank', 'supervisor', ',', 'and', 'other', 'region', 'associ', 'of', 'bank', 'supervisor', 'in', 'the', 'middl', 'east', ',', 'africa', ',', 'and', 'elsewher', 'help', 'to', 'move', 'us', 'in', 'the', 'right', 'direct', 'We', 'have', 'also', 'made', '--', 'and', 'continu', 'to', 'make', '--', 'signific', 'progress', 'in', 'develop', 'prudent', 'intern', 'supervisori', 'standard', 'that', 'are', 'both', 'quantit', 'and', 'qualit', 'in', 'natur', 'bill', 'taylor', 'play', 'a', 'critic', 'role', 'in', 'craft', 'and', 'negoti', 'the', 'basl', 'accord', 'of', '1988', 'for', 'credit', 'risk', 'that', 'help', 'greatli', 'to', 'strengthen', 'capit', 'standard', 'worldwid', 'and', 'to', 'provid', 'a', 'more', 'equit', 'basi', 'for', 'intern', 'competit', 'more', 'recent', ',', 'the', 'intern', 'model', 'approach', 'for', 'measur', 'market', 'risk', 'in', 'trade', 'activ', ',', 'adopt', 'by', 'the', 'basl', 'committe', 'late', 'last', 'year', ',', 'build', 'upon', 'that', 'framework', 'and', 'may', 'illustr', 'how', 'supervisori', 'rule', 'and', 'practic', 'can', 'evolv', 'As', 'financi', 'market', 'chang', ',', 'supervis', 'must', 'be', 'prepar', 'to', 'adjust', 'We', 'have', 'to', 'adapt', 'continu', 'to', 'chang', 'technolog', ',', 'chang', 'bank', 'practic', 'and', 'chang', 'market', 'forc', 'supervis', 'is', 'an', 'ever', 'evolv', 'process', 'We', 'must', 'be', 'care', ',', 'howev', ',', 'not', 'to', 'alter', 'our', 'modal', 'too', 'often', 'for', 'fear', 'of', 'creat', 'supervisori', 'uncertainti', 'To', 'maintain', 'a', 'proper', 'balanc', 'in', 'the', 'year', 'ahead', 'will', 'be', 'one', 'of', 'our', 'greatest', 'challeng', 'the', 'decis', 'to', 'craft', 'a', 'bank', \"'s\", 'capit', 'requir', 'for', 'trade', 'activ', 'around', 'accept', 'and', 'verifi', 'intern', 'risk', 'measur', 'wa', 'an', 'import', 'step', 'in', 'the', 'supervis', 'and', 'regul', 'of', 'larg', ',', 'intern', 'activ', 'bank', 'It', 'is', 'all', 'the', 'more', 'noteworthi', 'becaus', 'it', 'recogn', 'the', 'import', 'of', 'both', 'quantit', 'and', 'qualit', 'criteria', 'in', 'the', 'measur', 'and', 'manag', 'of', 'trade', 'risk', 'As', 'risk', 'manag', 'techniqu', 'evolv', 'for', 'other', 'bank', 'activ', ',', 'supervisor', 'will', 'need', 'to', 'understand', 'the', 'new', 'procedur', 'and', 'how', 'they', 'affect', 'overal', 'bank', 'risk', 'time', 'and', 'again', ',', 'though', ',', 'event', 'are', 'demonstr', 'that', 'despit', 'the', 'complex', 'of', 'transact', 'and', 'the', 'alleg', 'sophist', 'of', 'manag', 'system', ',', 'it', 'is', 'poor', 'qualit', 'factor', '--', 'that', 'is', ',', 'the', 'lack', 'of', 'basic', 'polici', 'and', 'control', '--', 'that', 'so', 'often', 'undermin', 'bank', 'fortun', ',', 'in', 'mani', 'case', ',', 'the', 'technolog', 'that', 'ha', 'enabl', 'institut', 'to', 'design', 'complex', 'new', 'product', 'also', 'provid', 'the', 'techniqu', 'with', 'which', 'the', 'result', 'risk', 'can', 'be', 'identifi', ',', 'measur', ',', 'and', 'control', 'manag', 'also', 'must', 'have', 'the', 'knowledg', 'and', 'motiv', 'to', 'employ', 'these', 'techniqu', 'to', 'ensur', 'that', 'the', 'risk', 'are', 'adequ', 'contain', 'We', 'must', 'never', 'forget', 'that', 'no', 'matter', 'how', 'technolog', 'complex', 'our', 'supervisori', 'system', 'becom', ',', 'the', 'basic', 'unit', 'of', 'supervis', 'on', 'which', 'all', 'els', 'rest', 'remain', 'the', 'human', 'judgment', 'of', 'the', 'degre', 'of', 'risk', 'on', 'a', 'specif', 'loan', ',', 'base', 'on', 'the', 'creditworthi', 'and', 'charact', 'of', 'a', 'borrow', 'If', 'those', 'credit', 'judgment', 'are', 'persist', 'flaw', ',', 'no', 'degre', 'of', 'complex', 'of', 'suppos', 'risk', 'dispers', 'or', 'eleg', 'of', 'credit', 'model', 'will', 'help', 'As', 'the', 'bare', 'and', 'other', 'episod', 'illustr', ',', 'proper', 'control', 'includ', 'such', 'basic', 'element', 'as', 'adequ', 'manag', 'oversight', 'and', 'separ', 'of', 'duti', 'those', 'of', 'us', 'who', 'supervis', 'bank', 'with', 'worldwid', 'oper', 'must', 'recogn', 'that', ',', 'with', 'today', \"'s\", 'telecommun', ',', 'manag', 'must', 'extend', 'it', 'polici', ',', 'procedur', ',', 'and', 'control', 'to', 'all', 'offic', 'that', 'have', 'the', 'abil', 'to', 'take', 'risk', 'In', 'thi', 'respect', ',', 'coordin', 'and', 'cooper', 'between', 'home', 'and', 'host', 'countri', 'becom', 'not', 'onli', 'import', ',', 'but', 'essenti', 'in', 'maintain', 'financi', 'sound', 'institut', 'and', 'financi', 'market', 'within', 'the', 'unit', 'state', ',', 'the', 'feder', 'reserv', 'and', 'other', 'bank', 'supervisor', 'are', 'place', 'grow', 'import', 'on', 'a', 'bank', \"'s\", 'risk', 'manag', 'process', 'and', 'are', 'strengthen', 'our', 'supervisori', 'procedur', ',', 'where', 'necessari', ',', 'to', 'assist', 'examin', 'in', 'identifi', 'manag', 'weak', 'and', 'strength', 'We', 'are', 'also', 'work', 'to', 'develop', 'supervisori', 'tool', 'and', 'techniqu', 'that', 'util', 'avail', 'technolog', 'and', 'that', 'help', 'supervisor', 'perform', 'their', 'duti', 'with', 'less', 'disrupt', 'to', 'bank', 'these', 'improv', 'rang', 'from', 'softwar', 'design', 'to', 'download', 'data', 'about', 'a', 'bank', \"'s\", 'loan', 'portfolio', 'to', 'an', 'examin', \"'s\", 'person', 'comput', ',', 'to', 'simpli', 'more', 'thought', 'review', 'of', 'intern', 'manag', 'report', 'such', 'autom', 'enhanc', 'will', 'permit', 'examin', ',', 'themselv', ',', 'to', 'analyz', 'more', 'effici', 'the', 'variou', 'concentr', 'within', 'loan', 'or', 'invest', 'portfolio', 'and', ',', 'therefor', ',', 'help', 'them', 'to', 'identifi', 'the', 'underli', 'risk', 'and', 'discuss', 'those', 'risk', 'with', 'bank', 'manag', 'countri', 'in', 'which', 'supervisor', 'conduct', 'on-sit', 'examin', 'or', 'otherwis', 'review', 'specif', 'loan', 'or', 'loan', 'portfolio', 'may', 'find', 'such', 'technolog', 'particularli', 'use', 'within', 'the', 'unit', 'state', ',', 'the', 'grow', 'volum', 'and', 'complex', 'of', 'transact', ',', 'particularli', 'at', 'the', 'largest', 'institut', ',', 'is', 'requir', 'such', 'product', 'enhanc', 'and', 'other', 'modif', 'to', 'our', 'supervisori', 'procedur', 'for', 'exampl', ',', 'rather', 'than', 'evalu', 'a', 'high', 'percentag', 'of', 'a', 'bank', \"'s\", 'loan', 'and', 'invest', 'product', 'by', 'review', 'individu', 'transact', ',', 'we', 'will', 'increasingli', 'seek', 'to', 'ensur', 'that', 'the', 'manag', 'process', 'itself', 'is', 'sound', ',', 'and', 'that', 'adequ', 'polici', 'and', 'control', 'exist', 'while', 'still', 'import', ',', 'the', 'amount', 'of', 'transact', 'test', ',', 'especi', 'at', 'larg', 'bank', ',', 'will', 'declin', 'howev', ',', 'supervisor', 'everywher', 'should', 'expect', 'bank', 'board', 'of', 'director', 'and', 'senior', 'manag', 'to', 'perform', 'their', 'leadership', 'and', 'oversight', 'role', 'By', 'themselv', 'supervisor', 'can', 'not', 'expect', 'to', 'detect', 'or', 'prevent', 'everi', 'unsound', 'practic', ',', 'nor', 'to', 'ensur', 'that', 'all', 'weak', 'manag', 'process', 'are', 'improv', 'We', 'can', 'expect', 'our', 'bank', 'system', 'to', 'be', 'sound', 'onli', 'by', 'ensur', 'that', 'director', 'and', 'manag', 'provid', 'guidanc', 'regard', 'their', 'appetit', 'for', 'risk', ';', 'that', 'they', 'bring', 'to', 'the', 'bank', ',', 'personnel', 'with', 'the', 'integr', 'and', 'skill', 'to', 'do', 'the', 'job', ';', 'and', 'that', 'they', 'monitor', 'complianc', 'with', 'their', 'own', 'direct', 'encourag', 'and', 'promot', 'sound', 'qualit', 'risk', 'manag', 'and', 'intern', 'control', 'ha', 'been', 'and', 'should', 'remain', 'a', 'high', 'prioriti', 'of', 'bank', 'supervisor', 'inde', ',', 'it', 'is', 'as', 'import', ',', 'in', 'my', 'view', ',', 'as', 'the', 'develop', 'of', 'quantit', 'prudenti', 'standard', 'conclus', 'thu', ',', 'despit', 'all', 'the', 'chang', 'and', 'innov', ',', 'commerci', 'bank', 'remain', 'a', 'busi', 'larg', 'of', 'extend', 'credit', 'and', 'manag', 'the', 'relat', 'risk', 'To', 'prosper', ',', 'banker', 'must', 'be', 'risk-', 'taker', ',', 'but', 'risk-tak', 'to', 'an', 'appropri', 'degre', 'bank', 'is', 'special', 'in', 'all', 'of', 'our', 'countri', 'becaus', 'of', 'it', 'role', 'in', 'financi', 'intermedi', 'accordingli', ',', 'the', 'industri', 'ha', 'been', 'given', 'import', 'privileg', ',', 'includ', 'the', 'direct', 'or', 'implicit', 'support', 'of', 'a', 'nation', 'safeti', 'net', 'in', 'most', 'countri', 'that', 'effect', 'protect', 'it', 'from', 'the', 'most', 'sever', 'econom', 'event', 'If', 'reli', 'on', 'too', 'heavili', ',', 'howev', ',', 'that', 'safeti', 'net', 'can', 'be', 'abus', 'by', 'bank', ',', 'which', 'then', 'becom', 'undercapit', 'and', 'too', 'will', 'to', 'take', 'on', 'inappropri', 'risk', 'In', 'the', 'decad', 'ahead', ',', 'supervisor', 'will', 'have', 'to', 'adjust', 'to', 'grow', 'technolog', 'and', 'increasingli', 'sophist', 'market', 'A', 'gener', 'ago', 'a', 'month-old', 'bank', 'balanc', 'sheet', 'wa', 'a', 'reason', 'approxim', 'of', 'the', 'current', 'state', 'of', 'an', 'institut', 'today', ',', 'for', 'some', 'bank', ',', 'day-old', 'balanc', 'sheet', 'are', 'on', 'the', 'edg', 'of', 'obsolesc', 'In', 'the', '21st', 'centuri', 'that', 'will', 'be', 'true', 'of', 'most', 'bank', 'futur', 'supervis', 'will', 'of', 'necess', 'have', 'to', 'reli', 'far', 'more', 'on', 'a', 'bank', \"'s\", 'risk', 'manag', 'inform', 'system', 'to', 'protect', 'against', 'loss', 'We', 'supervisor', 'will', 'be', 'appreci', 'more', 'involv', 'in', 'evalu', 'individu', 'bank', 'risk', 'manag', 'process', ',', 'than', 'after-the-fact', 'result', 'In', 'do', 'so', ',', 'howev', ',', 'we', 'must', 'be', 'assur', 'that', 'with', 'rare', 'and', 'circumscrib', 'except', 'we', 'do', 'not', 'substitut', 'supervisori', 'judgment', 'for', 'manag', 'decis', 'that', 'is', 'the', 'road', 'to', 'moral', 'hazard', 'and', 'ineffici', 'bank', 'manag', 'fortun', ',', 'the', 'same', 'technolog', 'and', 'innov', 'that', 'is', 'drive', 'supervisor', 'to', 'focu', 'on', 'manag', 'process', 'will', ',', 'through', 'the', 'develop', 'of', 'sophist', 'market', 'structur', 'and', 'respons', ',', 'do', 'much', 'of', 'our', 'job', 'of', 'ensur', 'safeti', 'and', 'sound', 'We', 'should', 'be', 'care', 'not', 'to', 'imped', 'the', 'process', 'bank', 'supervisor', 'play', 'an', 'import', 'role', 'in', 'encourag', 'the', 'proper', 'balanc', 'of', 'risk-tak', 'by', 'develop', 'prudent', 'standard', 'and', 'enforc', 'sound', 'practic', 'at', 'bank', 'bill', 'taylor', 'understood', 'that', 'role', 'and', 'work', 'vigor', 'to', 'address', 'the', 'weak', 'he', 'saw', 'the', 'approach', 'we', 'take', 'will', 'convey', 'our', 'view', 'regard', 'to', 'what', 'extent', 'govern', 'will', 'share', 'bank', 'risk', 'and', 'how', 'much', 'respons', 'rest', 'with', 'bank', 'In', 'a', 'global', 'financi', 'system', ',', 'the', 'choic', 'we', 'make', 'will', 'clearli', 'have', 'widespread', 'effect', '1996', 'speech', 'home', '|', 'new', 'and', 'event', 'access', '|', 'contact', 'Us', 'last', 'updat', ':', 'juli', '23', ',', '1996', '12:00', 'PM']\n"
          ]
        }
      ],
      "source": [
        "tokenized_sentences = []\n",
        "for sentence in sentences:\n",
        "  tokens = []\n",
        "  # put your code here\n",
        "  \n",
        "  \n",
        "  \n",
        "  \n",
        "  \n",
        "  \n",
        "  \n",
        "  tokenized_sentences.append(tokens)\n",
        "print('Number of tokenized sentences:', len(tokenized_sentences))\n",
        "print(tokenized_sentences[0])"
      ]
    },
    {
      "cell_type": "markdown",
      "metadata": {
        "id": "cLNvdfKchU2H"
      },
      "source": [
        "## 4. count number of occurrences of uncertainty words for each document"
      ]
    },
    {
      "cell_type": "code",
      "execution_count": 43,
      "metadata": {
        "colab": {
          "base_uri": "https://localhost:8080/"
        },
        "id": "QaI5SoAqczwe",
        "outputId": "a755c113-b37a-4e6e-ce20-13b69054fca3"
      },
      "outputs": [
        {
          "name": "stdout",
          "output_type": "stream",
          "text": [
            "Number of sentence counters: 67\n",
            "12\n"
          ]
        }
      ],
      "source": [
        "sentence_counters = []\n",
        "for tokens in tokenized_sentences:\n",
        "  count = 0\n",
        "  # put your code here\n",
        "  \n",
        "  \n",
        "  \n",
        "  \n",
        "  \n",
        "  \n",
        "  sentence_counters.append(count)\n",
        "\n",
        "print('Number of sentence counters:', len(sentence_counters))\n",
        "print(sentence_counters[0])"
      ]
    },
    {
      "cell_type": "markdown",
      "metadata": {
        "id": "NpWHIma0i6Yz"
      },
      "source": [
        "## 5. apply the above processing to the entire dataframe\n"
      ]
    },
    {
      "cell_type": "code",
      "execution_count": null,
      "metadata": {
        "id": "X2WveIvEjFJe"
      },
      "outputs": [],
      "source": [
        "# put your code here"
      ]
    },
    {
      "cell_type": "markdown",
      "metadata": {
        "id": "O-_qcIdPjGM5"
      },
      "source": [
        "## 6. aggregate number of occurrences by year and plot\n"
      ]
    },
    {
      "cell_type": "code",
      "execution_count": null,
      "metadata": {
        "id": "cbx-L1M_iYDt"
      },
      "outputs": [],
      "source": [
        "# put your code here"
      ]
    }
  ],
  "metadata": {
    "colab": {
      "name": "midterm_2022.ipynb",
      "provenance": []
    },
    "interpreter": {
      "hash": "1cb483cf0c285c56169e405615a02d249d0d711aa034386fe0172be5ae49274c"
    },
    "kernelspec": {
      "display_name": "Python 3.9.2 64-bit ('nlp_test-3.9.2')",
      "language": "python",
      "name": "python3"
    },
    "language_info": {
      "codemirror_mode": {
        "name": "ipython",
        "version": 3
      },
      "file_extension": ".py",
      "mimetype": "text/x-python",
      "name": "python",
      "nbconvert_exporter": "python",
      "pygments_lexer": "ipython3",
      "version": "3.8.12"
    },
    "orig_nbformat": 4
  },
  "nbformat": 4,
  "nbformat_minor": 0
}
